{
 "cells": [
  {
   "cell_type": "code",
   "execution_count": 1,
   "id": "81375f4c",
   "metadata": {},
   "outputs": [],
   "source": [
    "import numpy as np\n",
    "import pandas as pd\n",
    "import matplotlib.pyplot as plt\n",
    "import seaborn as sns\n",
    "from matplotlib.pyplot import figure"
   ]
  },
  {
   "cell_type": "code",
   "execution_count": 2,
   "id": "28ec5d5c",
   "metadata": {},
   "outputs": [],
   "source": [
    "from __future__ import print_function \n",
    "from ipywidgets import interact, interactive, fixed, interact_manual, HBox, Layout, VBox\n",
    "import ipywidgets as widgets\n",
    "\n",
    "from tkinter import *"
   ]
  },
  {
   "cell_type": "markdown",
   "id": "90716978",
   "metadata": {},
   "source": [
    "# Mean particle HUMIDITY"
   ]
  },
  {
   "cell_type": "code",
   "execution_count": 5,
   "id": "574f7ea3",
   "metadata": {},
   "outputs": [],
   "source": [
    "humidity = pd.read_excel('humidity all.xlsx')"
   ]
  },
  {
   "cell_type": "markdown",
   "id": "da457cd6",
   "metadata": {},
   "source": [
    "### Comparando lugares"
   ]
  },
  {
   "cell_type": "code",
   "execution_count": 6,
   "id": "e6446fd1",
   "metadata": {},
   "outputs": [
    {
     "data": {
      "application/vnd.jupyter.widget-view+json": {
       "model_id": "0694c10b380742399d737fec165c7e3a",
       "version_major": 2,
       "version_minor": 0
      },
      "text/plain": [
       "interactive(children=(SelectMultiple(description='Place', options=('Av Constitución Gijón', 'Avilés Matadero',…"
      ]
     },
     "metadata": {},
     "output_type": "display_data"
    }
   ],
   "source": [
    "meanby = ['PST_HI','CO_HI','NO2_HI','NO_HI','SO2_HI','O3_HI']\n",
    "meanwhen = [2015,2016,2017,2018]\n",
    "\n",
    "def information_humidity(place,Particle = meanby,year = meanwhen):\n",
    "    \n",
    "    x = humidity[humidity['Place'].isin(place)]\n",
    "    x = x[x['Year']==year]\n",
    "    x = x[['Year','Place',Particle,'Year','humidity']]\n",
    "    print(x)\n",
    "    \n",
    "    def sorter(column):\n",
    "        reorder = ['high', 'medium high','medium low' ,'low']\n",
    "        # This also works:\n",
    "        # mapper = {name: order for order, name in enumerate(reorder)}\n",
    "        # return column.map(mapper)\n",
    "        cat = pd.Categorical(column, categories=reorder, ordered=True)\n",
    "        return pd.Series(cat)\n",
    "\n",
    "    df_sorted = x.sort_values(by=\"humidity\", key=sorter)\n",
    "        \n",
    "    info = pd.DataFrame(df_sorted)\n",
    "    info\n",
    "    \n",
    "    sns.barplot(x='humidity',y=Particle,data=df_sorted,hue='Place')\n",
    "    figure(figsize=(108,106), dpi=80)\n",
    "\n",
    "    \n",
    "graphs = interact_manual(information_humidity,place = widgets.SelectMultiple(options = humidity.Place.sort_values().unique(),description = 'Place',disabled = False))    \n",
    "    "
   ]
  },
  {
   "cell_type": "markdown",
   "id": "56602ea6",
   "metadata": {},
   "source": [
    "### Comparando año tras año en cada lugar"
   ]
  },
  {
   "cell_type": "code",
   "execution_count": 7,
   "id": "3d5d850e",
   "metadata": {},
   "outputs": [
    {
     "data": {
      "application/vnd.jupyter.widget-view+json": {
       "model_id": "3c5113913f0b420c80f07af2208912e9",
       "version_major": 2,
       "version_minor": 0
      },
      "text/plain": [
       "interactive(children=(SelectMultiple(description='Years', options=(2015, 2016, 2017, 2018), value=()), Dropdow…"
      ]
     },
     "metadata": {},
     "output_type": "display_data"
    }
   ],
   "source": [
    "meanby = ['PST_HI','CO_HI','NO2_HI','NO_HI','SO2_HI','O3_HI']\n",
    "meanwhere = ['Avilés Matadero', 'Av Constitución Gijón', 'Meriñán Langreo','Mieres', 'P deprotes']\n",
    "\n",
    "def information_humidity(year,Particle = meanby,place = meanwhere):\n",
    "    \n",
    "    x = humidity[humidity['Place'] == place]\n",
    "    x = x[x['Year'].isin(year)]\n",
    "    x = x[['Year','Place',Particle,'humidity']]\n",
    "    \n",
    "    def sorter(column):\n",
    "        reorder = ['high', 'medium high','medium low' ,'low']\n",
    "        # This also works:\n",
    "        # mapper = {name: order for order, name in enumerate(reorder)}\n",
    "        # return column.map(mapper)\n",
    "        cat = pd.Categorical(column, categories=reorder, ordered=True)\n",
    "        return pd.Series(cat)\n",
    "\n",
    "    df_sorted = x.sort_values(by=\"humidity\", key=sorter)\n",
    "        \n",
    "       \n",
    "    \n",
    "    \n",
    "    sns.barplot(x='humidity',y=Particle,data=df_sorted,hue='Year')\n",
    "    figure(figsize=(108,106), dpi=80)\n",
    "\n",
    "    \n",
    "graphs = interact_manual(information_humidity,year = widgets.SelectMultiple(options = humidity.Year.sort_values().unique(),description = 'Years',disabled = False))    \n",
    "    "
   ]
  },
  {
   "cell_type": "markdown",
   "id": "9ff1a6ac",
   "metadata": {},
   "source": [
    "# Mean particle PREASSURE"
   ]
  },
  {
   "cell_type": "code",
   "execution_count": 8,
   "id": "b4b6d2f3",
   "metadata": {},
   "outputs": [],
   "source": [
    "preassure = pd.read_excel('preassure all.xlsx')"
   ]
  },
  {
   "cell_type": "markdown",
   "id": "51cb2180",
   "metadata": {},
   "source": [
    "### Comparando lugares"
   ]
  },
  {
   "cell_type": "code",
   "execution_count": 9,
   "id": "7fb32d8e",
   "metadata": {},
   "outputs": [
    {
     "data": {
      "application/vnd.jupyter.widget-view+json": {
       "model_id": "82fd808fb5bd483d820cb5400663a926",
       "version_major": 2,
       "version_minor": 0
      },
      "text/plain": [
       "interactive(children=(SelectMultiple(description='Place', options=('Av Constitución Gijón', 'Avilés Matadero',…"
      ]
     },
     "metadata": {},
     "output_type": "display_data"
    }
   ],
   "source": [
    "meanby = ['PST_HI','CO_HI','NO2_HI','NO_HI','SO2_HI','O3_HI']\n",
    "meanwhen = [2015,2016,2017,2018]\n",
    "\n",
    "def information_preassure(place,Particle = meanby,year = meanwhen):\n",
    "    \n",
    "    x = preassure[preassure['Place'].isin(place)]\n",
    "    x = x[x['Year']==year]\n",
    "    x = x[['Year','Place',Particle,'Year','preassure']]\n",
    "    print(x)\n",
    "    \n",
    "    def sorter(column):\n",
    "        reorder = ['LOW','HIGH']\n",
    "        # This also works:\n",
    "        # mapper = {name: order for order, name in enumerate(reorder)}\n",
    "        # return column.map(mapper)\n",
    "        cat = pd.Categorical(column, categories=reorder, ordered=True)\n",
    "        return pd.Series(cat)\n",
    "\n",
    "    df_sorted = x.sort_values(by=\"preassure\", key=sorter)\n",
    "        \n",
    "    info = pd.DataFrame(df_sorted)\n",
    "    info\n",
    "    \n",
    "    sns.barplot(x='preassure',y=Particle,data=df_sorted,hue='Place')\n",
    "    figure(figsize=(108,106), dpi=80)\n",
    "\n",
    "    \n",
    "graphs = interact_manual(information_preassure,place = widgets.SelectMultiple(options = preassure.Place.sort_values().unique(),description = 'Place',disabled = False))    \n",
    "    "
   ]
  },
  {
   "cell_type": "markdown",
   "id": "34e532d9",
   "metadata": {},
   "source": [
    "### Comparando año tras año en cada lugar"
   ]
  },
  {
   "cell_type": "code",
   "execution_count": 10,
   "id": "f4591a8e",
   "metadata": {},
   "outputs": [
    {
     "data": {
      "application/vnd.jupyter.widget-view+json": {
       "model_id": "647a24b74aba4c9d972b80195b80c0a9",
       "version_major": 2,
       "version_minor": 0
      },
      "text/plain": [
       "interactive(children=(SelectMultiple(description='Years', options=(2015, 2016, 2017, 2018), value=()), Dropdow…"
      ]
     },
     "metadata": {},
     "output_type": "display_data"
    }
   ],
   "source": [
    "meanby = ['PST_HI','CO_HI','NO2_HI','NO_HI','SO2_HI','O3_HI']\n",
    "meanwhere = ['Avilés Matadero', 'Av Constitución Gijón', 'Meriñán Langreo','Mieres', 'P deprotes']\n",
    "\n",
    "def information_preassure(year,Particle = meanby,place = meanwhere):\n",
    "    \n",
    "    x = preassure[preassure['Place'] == place]\n",
    "    x = x[x['Year'].isin(year)]\n",
    "    x = x[['Year','Place',Particle,'preassure']]\n",
    "    \n",
    "    def sorter(column):\n",
    "        reorder = ['LOW','HIGH']\n",
    "        # This also works:\n",
    "        # mapper = {name: order for order, name in enumerate(reorder)}\n",
    "        # return column.map(mapper)\n",
    "        cat = pd.Categorical(column, categories=reorder, ordered=True)\n",
    "        return pd.Series(cat)\n",
    "\n",
    "    df_sorted = x.sort_values(by=\"preassure\", key=sorter)\n",
    "        \n",
    "       \n",
    "    \n",
    "    \n",
    "    sns.barplot(x='preassure',y=Particle,data=df_sorted,hue='Year')\n",
    "    figure(figsize=(108,106), dpi=80)\n",
    "\n",
    "    \n",
    "graphs = interact_manual(information_preassure,year = widgets.SelectMultiple(options = preassure.Year.sort_values().unique(),description = 'Years',disabled = False))    \n",
    "    "
   ]
  },
  {
   "cell_type": "markdown",
   "id": "a6153640",
   "metadata": {},
   "source": [
    "# Mean particle RADIATION"
   ]
  },
  {
   "cell_type": "code",
   "execution_count": 11,
   "id": "11bd98f9",
   "metadata": {},
   "outputs": [],
   "source": [
    "radiation = pd.read_excel('radiation all.xlsx')"
   ]
  },
  {
   "cell_type": "markdown",
   "id": "3bc08d16",
   "metadata": {},
   "source": [
    "### Comparando lugares"
   ]
  },
  {
   "cell_type": "code",
   "execution_count": 12,
   "id": "50fcf190",
   "metadata": {},
   "outputs": [
    {
     "data": {
      "application/vnd.jupyter.widget-view+json": {
       "model_id": "ce4a4d27303447c198d52f81cf0c4904",
       "version_major": 2,
       "version_minor": 0
      },
      "text/plain": [
       "interactive(children=(SelectMultiple(description='Place', options=('Av Constitución Gijón', 'Avilés Matadero',…"
      ]
     },
     "metadata": {},
     "output_type": "display_data"
    }
   ],
   "source": [
    "meanby = ['PST_HI','CO_HI','NO2_HI','NO_HI','SO2_HI','O3_HI']\n",
    "meanwhen = [2015,2016,2017,2018]\n",
    "\n",
    "def information_radiation(place,Particle = meanby,year = meanwhen):\n",
    "    \n",
    "    x = radiation[radiation['Place'].isin(place)]\n",
    "    x = x[x['Year']==year]\n",
    "    x = x[['Year','Place',Particle,'Year','radiation']]\n",
    "    print(x)\n",
    "    \n",
    "    def sorter(column):\n",
    "        reorder = ['very low', 'low', 'medium low', 'medium high', 'high','very high']\n",
    "        # This also works:\n",
    "        # mapper = {name: order for order, name in enumerate(reorder)}\n",
    "        # return column.map(mapper)\n",
    "        cat = pd.Categorical(column, categories=reorder, ordered=True)\n",
    "        return pd.Series(cat)\n",
    "\n",
    "    df_sorted = x.sort_values(by=\"radiation\", key=sorter)\n",
    "        \n",
    "    info = pd.DataFrame(df_sorted)\n",
    "    info\n",
    "    \n",
    "    sns.barplot(x='radiation',y=Particle,data=df_sorted,hue='Place')\n",
    "    figure(figsize=(108,106), dpi=80)\n",
    "\n",
    "    \n",
    "graphs = interact_manual(information_radiation,place = widgets.SelectMultiple(options = radiation.Place.sort_values().unique(),description = 'Place',disabled = False))    \n",
    "    "
   ]
  },
  {
   "cell_type": "markdown",
   "id": "011279eb",
   "metadata": {},
   "source": [
    "### Comparando año tras año en cada lugar"
   ]
  },
  {
   "cell_type": "code",
   "execution_count": 13,
   "id": "cedd13c8",
   "metadata": {},
   "outputs": [
    {
     "data": {
      "application/vnd.jupyter.widget-view+json": {
       "model_id": "ef48199471cc4a15b31d1e96273668fa",
       "version_major": 2,
       "version_minor": 0
      },
      "text/plain": [
       "interactive(children=(SelectMultiple(description='Years', options=(2015, 2016, 2017, 2018), value=()), Dropdow…"
      ]
     },
     "metadata": {},
     "output_type": "display_data"
    }
   ],
   "source": [
    "meanby = ['PST_HI','CO_HI','NO2_HI','NO_HI','SO2_HI','O3_HI']\n",
    "meanwhere = ['Avilés Matadero', 'Av Constitución Gijón', 'Meriñán Langreo','Mieres', 'P deprotes']\n",
    "\n",
    "def information_radiation(year,Particle = meanby,place = meanwhere):\n",
    "    \n",
    "    x = radiation[radiation['Place'] == place]\n",
    "    x = x[x['Year'].isin(year)]\n",
    "    x = x[['Year','Place',Particle,'radiation']]\n",
    "    \n",
    "    def sorter(column):\n",
    "        reorder = ['very low', 'low', 'medium low', 'medium high', 'high','very high']\n",
    "        # This also works:\n",
    "        # mapper = {name: order for order, name in enumerate(reorder)}\n",
    "        # return column.map(mapper)\n",
    "        cat = pd.Categorical(column, categories=reorder, ordered=True)\n",
    "        return pd.Series(cat)\n",
    "\n",
    "    df_sorted = x.sort_values(by=\"radiation\", key=sorter)\n",
    "        \n",
    "       \n",
    "    sns.barplot(x='radiation',y=Particle,data=df_sorted,hue='Year')\n",
    "    figure(figsize=(108,106), dpi=80)\n",
    "\n",
    "    \n",
    "graphs = interact_manual(information_radiation,year = widgets.SelectMultiple(options = radiation.Year.sort_values().unique(),description = 'Years',disabled = False))    \n",
    "    "
   ]
  },
  {
   "cell_type": "markdown",
   "id": "2cc47979",
   "metadata": {},
   "source": [
    "# Mean particle RAIN "
   ]
  },
  {
   "cell_type": "code",
   "execution_count": 14,
   "id": "96ab61ab",
   "metadata": {},
   "outputs": [],
   "source": [
    "rain = pd.read_excel('rain all.xlsx')"
   ]
  },
  {
   "cell_type": "markdown",
   "id": "c6dbec7b",
   "metadata": {},
   "source": [
    "### Comparando lugares"
   ]
  },
  {
   "cell_type": "code",
   "execution_count": 15,
   "id": "36b66f4a",
   "metadata": {},
   "outputs": [
    {
     "data": {
      "application/vnd.jupyter.widget-view+json": {
       "model_id": "6a978373a0614ac4ac39a383e01ba3a6",
       "version_major": 2,
       "version_minor": 0
      },
      "text/plain": [
       "interactive(children=(SelectMultiple(description='Place', options=('Av Constitución Gijón', 'Avilés Matadero',…"
      ]
     },
     "metadata": {},
     "output_type": "display_data"
    }
   ],
   "source": [
    "meanby = ['PST_HI','CO_HI','NO2_HI','NO_HI','SO2_HI','O3_HI']\n",
    "meanwhen = [2015,2016,2017,2018]\n",
    "\n",
    "def information_rain(place,Particle = meanby,year = meanwhen):\n",
    "    \n",
    "    x = rain[rain['Place'].isin(place)]\n",
    "    x = x[x['Year']==year]\n",
    "    x = x[['Year','Place',Particle,'Year','rain']]\n",
    "    print(x)\n",
    "    \n",
    "    def sorter(column):\n",
    "        reorder = ['low', 'medium low', 'medium high', 'high', 'very high']\n",
    "        # This also works:\n",
    "        # mapper = {name: order for order, name in enumerate(reorder)}\n",
    "        # return column.map(mapper)\n",
    "        cat = pd.Categorical(column, categories=reorder, ordered=True)\n",
    "        return pd.Series(cat)\n",
    "\n",
    "    df_sorted = x.sort_values(by=\"rain\", key=sorter)\n",
    "        \n",
    "    info = pd.DataFrame(df_sorted)\n",
    "    info\n",
    "    \n",
    "    sns.barplot(x='rain',y=Particle,data=df_sorted,hue='Place')\n",
    "    figure(figsize=(108,106), dpi=80)\n",
    "\n",
    "    \n",
    "graphs = interact_manual(information_rain,place = widgets.SelectMultiple(options = rain.Place.sort_values().unique(),description = 'Place',disabled = False))    \n",
    "    "
   ]
  },
  {
   "cell_type": "markdown",
   "id": "5e7d8076",
   "metadata": {},
   "source": [
    "### Comparando año tras año en cada lugar"
   ]
  },
  {
   "cell_type": "code",
   "execution_count": 16,
   "id": "ef209b15",
   "metadata": {},
   "outputs": [
    {
     "data": {
      "application/vnd.jupyter.widget-view+json": {
       "model_id": "05190f4991984d6dbcda0be084d55529",
       "version_major": 2,
       "version_minor": 0
      },
      "text/plain": [
       "interactive(children=(SelectMultiple(description='Years', options=(2015, 2016, 2017, 2018), value=()), Dropdow…"
      ]
     },
     "metadata": {},
     "output_type": "display_data"
    }
   ],
   "source": [
    "meanby = ['PST_HI','CO_HI','NO2_HI','NO_HI','SO2_HI','O3_HI']\n",
    "meanwhere = ['Avilés Matadero', 'Av Constitución Gijón', 'Meriñán Langreo','Mieres', 'P deprotes']\n",
    "\n",
    "def information_rain(year,Particle = meanby,place = meanwhere):\n",
    "    \n",
    "    x = rain[rain['Place'] == place]\n",
    "    x = x[x['Year'].isin(year)]\n",
    "    x = x[['Year','Place',Particle,'rain']]\n",
    "    \n",
    "    def sorter(column):\n",
    "        reorder = ['very low', 'low', 'medium low', 'medium high', 'high','very high']\n",
    "        # This also works:\n",
    "        # mapper = {name: order for order, name in enumerate(reorder)}\n",
    "        # return column.map(mapper)\n",
    "        cat = pd.Categorical(column, categories=reorder, ordered=True)\n",
    "        return pd.Series(cat)\n",
    "\n",
    "    df_sorted = x.sort_values(by=\"rain\", key=sorter)\n",
    "        \n",
    "       \n",
    "    sns.barplot(x='rain',y=Particle,data=df_sorted,hue='Year')\n",
    "    figure(figsize=(108,106), dpi=80)\n",
    "\n",
    "    \n",
    "graphs = interact_manual(information_rain,year = widgets.SelectMultiple(options = rain.Year.sort_values().unique(),description = 'Years',disabled = False))    \n",
    "    "
   ]
  },
  {
   "cell_type": "markdown",
   "id": "094d146e",
   "metadata": {},
   "source": [
    "# Mean particle TEMPERATURE"
   ]
  },
  {
   "cell_type": "code",
   "execution_count": 17,
   "id": "f41ccf1a",
   "metadata": {},
   "outputs": [],
   "source": [
    "temperature = pd.read_excel('temperature all.xlsx')"
   ]
  },
  {
   "cell_type": "markdown",
   "id": "73c14c91",
   "metadata": {},
   "source": [
    "### Comparando lugares"
   ]
  },
  {
   "cell_type": "code",
   "execution_count": 18,
   "id": "88e10355",
   "metadata": {},
   "outputs": [
    {
     "data": {
      "application/vnd.jupyter.widget-view+json": {
       "model_id": "f7a760ee0a5e443182509f5150c8f292",
       "version_major": 2,
       "version_minor": 0
      },
      "text/plain": [
       "interactive(children=(SelectMultiple(description='Place', options=('Av Constitución Gijón', 'Avilés Matadero',…"
      ]
     },
     "metadata": {},
     "output_type": "display_data"
    }
   ],
   "source": [
    "meanby = ['PST_HI','CO_HI','NO2_HI','NO_HI','SO2_HI','O3_HI']\n",
    "meanwhen = [2015,2016,2017,2018]\n",
    "\n",
    "def information_temperature(place,Particle = meanby,year = meanwhen):\n",
    "    \n",
    "    x = temperature[temperature['Place'].isin(place)]\n",
    "    x = x[x['Year']==year]\n",
    "    x = x[['Year','Place',Particle,'Year','temperature']]\n",
    "    print(x)\n",
    "    \n",
    "    def sorter(column):\n",
    "        reorder = ['freeze', 'medium-cold', 'medium-hot', 'hot']\n",
    "        # This also works:\n",
    "        # mapper = {name: order for order, name in enumerate(reorder)}\n",
    "        # return column.map(mapper)\n",
    "        cat = pd.Categorical(column, categories=reorder, ordered=True)\n",
    "        return pd.Series(cat)\n",
    "\n",
    "    df_sorted = x.sort_values(by=\"temperature\", key=sorter)\n",
    "        \n",
    "    info = pd.DataFrame(df_sorted)\n",
    "    info\n",
    "    \n",
    "    sns.barplot(x='temperature',y=Particle,data=df_sorted,hue='Place')\n",
    "    figure(figsize=(108,106), dpi=80)\n",
    "\n",
    "    \n",
    "graphs = interact_manual(information_temperature,place = widgets.SelectMultiple(options = temperature.Place.sort_values().unique(),description = 'Place',disabled = False))    \n",
    "    "
   ]
  },
  {
   "cell_type": "markdown",
   "id": "f653c917",
   "metadata": {},
   "source": [
    "### Comparando año tras año en cada lugar"
   ]
  },
  {
   "cell_type": "code",
   "execution_count": 19,
   "id": "25cd04df",
   "metadata": {},
   "outputs": [
    {
     "data": {
      "application/vnd.jupyter.widget-view+json": {
       "model_id": "84c8f22473d244369415dd9474aafc43",
       "version_major": 2,
       "version_minor": 0
      },
      "text/plain": [
       "interactive(children=(SelectMultiple(description='Years', options=(2015, 2016, 2017, 2018), value=()), Dropdow…"
      ]
     },
     "metadata": {},
     "output_type": "display_data"
    }
   ],
   "source": [
    "meanby = ['PST_HI','CO_HI','NO2_HI','NO_HI','SO2_HI','O3_HI']\n",
    "meanwhere = ['Avilés Matadero', 'Av Constitución Gijón', 'Meriñán Langreo','Mieres', 'P deprotes']\n",
    "\n",
    "def information_temperature(year,Particle = meanby,place = meanwhere):\n",
    "    \n",
    "    x = temperature[temperature['Place'] == place]\n",
    "    x = x[x['Year'].isin(year)]\n",
    "    x = x[['Year','Place',Particle,'temperature']]\n",
    "    \n",
    "    def sorter(column):\n",
    "        reorder = ['freeze', 'medium-cold', 'medium-hot', 'hot']\n",
    "        # This also works:\n",
    "        # mapper = {name: order for order, name in enumerate(reorder)}\n",
    "        # return column.map(mapper)\n",
    "        cat = pd.Categorical(column, categories=reorder, ordered=True)\n",
    "        return pd.Series(cat)\n",
    "\n",
    "    df_sorted = x.sort_values(by=\"temperature\", key=sorter)\n",
    "        \n",
    "       \n",
    "    sns.barplot(x='temperature',y=Particle,data=df_sorted,hue='Year')\n",
    "    figure(figsize=(108,106), dpi=80)\n",
    "\n",
    "    \n",
    "graphs = interact_manual(information_temperature,year = widgets.SelectMultiple(options = temperature.Year.sort_values().unique(),description = 'Years',disabled = False))    \n",
    "    "
   ]
  },
  {
   "cell_type": "markdown",
   "id": "ff0841e6",
   "metadata": {},
   "source": [
    "# Mean particle WIND"
   ]
  },
  {
   "cell_type": "code",
   "execution_count": 20,
   "id": "2b4bee0f",
   "metadata": {},
   "outputs": [],
   "source": [
    "wind = pd.read_excel('wind all.xlsx')"
   ]
  },
  {
   "cell_type": "markdown",
   "id": "ee3f075a",
   "metadata": {},
   "source": [
    "### Comparando lugares"
   ]
  },
  {
   "cell_type": "code",
   "execution_count": 21,
   "id": "3189bc5b",
   "metadata": {},
   "outputs": [
    {
     "data": {
      "application/vnd.jupyter.widget-view+json": {
       "model_id": "e07836eb80bd47edbb80caa4bc940c5d",
       "version_major": 2,
       "version_minor": 0
      },
      "text/plain": [
       "interactive(children=(SelectMultiple(description='Place', options=('Av Constitución Gijón', 'Avilés Matadero',…"
      ]
     },
     "metadata": {},
     "output_type": "display_data"
    }
   ],
   "source": [
    "meanby = ['PST_HI','CO_HI','NO2_HI','NO_HI','SO2_HI','O3_HI']\n",
    "meanwhen = [2015,2016,2017,2018]\n",
    "\n",
    "def information_wind(place,Particle = meanby,year = meanwhen):\n",
    "    \n",
    "    x = wind[wind['Place'].isin(place)]\n",
    "    x = x[x['Year']==year]\n",
    "    x = x[['Year','Place',Particle,'Year','cat_wind']]\n",
    "    print(x)\n",
    "    \n",
    "    def sorter(column):\n",
    "        reorder = ['North', 'North East', 'East', 'South East', 'South', 'South West', 'West', 'North West']\n",
    "        # This also works:\n",
    "        # mapper = {name: order for order, name in enumerate(reorder)}\n",
    "        # return column.map(mapper)\n",
    "        cat = pd.Categorical(column, categories=reorder, ordered=True)\n",
    "        return pd.Series(cat)\n",
    "\n",
    "    df_sorted = x.sort_values(by=\"cat_wind\", key=sorter)\n",
    "        \n",
    "    info = pd.DataFrame(df_sorted)\n",
    "    info\n",
    "    \n",
    "    sns.barplot(x='cat_wind',y=Particle,data=df_sorted,hue='Place')\n",
    "    figure(figsize=(108,106), dpi=80)\n",
    "\n",
    "    \n",
    "graphs = interact_manual(information_wind,place = widgets.SelectMultiple(options = wind.Place.sort_values().unique(),description = 'Place',disabled = False))    \n",
    "    "
   ]
  },
  {
   "cell_type": "markdown",
   "id": "d7caf7ef",
   "metadata": {},
   "source": [
    "### Comparando año tras año en cada lugar"
   ]
  },
  {
   "cell_type": "code",
   "execution_count": 22,
   "id": "e5292224",
   "metadata": {},
   "outputs": [
    {
     "data": {
      "application/vnd.jupyter.widget-view+json": {
       "model_id": "1bf38deb6eff4271afdb153bdb400c4f",
       "version_major": 2,
       "version_minor": 0
      },
      "text/plain": [
       "interactive(children=(SelectMultiple(description='Years', options=(2015, 2016, 2017, 2018), value=()), Dropdow…"
      ]
     },
     "metadata": {},
     "output_type": "display_data"
    }
   ],
   "source": [
    "meanby = ['PST_HI','CO_HI','NO2_HI','NO_HI','SO2_HI','O3_HI']\n",
    "meanwhere = ['Avilés Matadero', 'Av Constitución Gijón', 'Meriñán Langreo','Mieres', 'P deprotes']\n",
    "\n",
    "def information_wind(year,Particle = meanby,place = meanwhere):\n",
    "    \n",
    "    x = wind[wind['Place'] == place]\n",
    "    x = x[x['Year'].isin(year)]\n",
    "    x = x[['Year','Place',Particle,'cat_wind']]\n",
    "    \n",
    "    def sorter(column):\n",
    "        reorder = ['North', 'North East', 'East', 'South East', 'South', 'South West', 'West', 'North West']\n",
    "        # This also works:\n",
    "        # mapper = {name: order for order, name in enumerate(reorder)}\n",
    "        # return column.map(mapper)\n",
    "        cat = pd.Categorical(column, categories=reorder, ordered=True)\n",
    "        return pd.Series(cat)\n",
    "\n",
    "    df_sorted = x.sort_values(by=\"cat_wind\", key=sorter)\n",
    "        \n",
    "       \n",
    "    sns.barplot(x='cat_wind',y=Particle,data=df_sorted,hue='Year')\n",
    "    figure(figsize=(108,106), dpi=80)\n",
    "\n",
    "    \n",
    "graphs = interact_manual(information_wind,year = widgets.SelectMultiple(options = wind.Year.sort_values().unique(),description = 'Years',disabled = False))    \n",
    "    "
   ]
  }
 ],
 "metadata": {
  "kernelspec": {
   "display_name": "Python 3",
   "language": "python",
   "name": "python3"
  },
  "language_info": {
   "codemirror_mode": {
    "name": "ipython",
    "version": 3
   },
   "file_extension": ".py",
   "mimetype": "text/x-python",
   "name": "python",
   "nbconvert_exporter": "python",
   "pygments_lexer": "ipython3",
   "version": "3.8.8"
  }
 },
 "nbformat": 4,
 "nbformat_minor": 5
}
